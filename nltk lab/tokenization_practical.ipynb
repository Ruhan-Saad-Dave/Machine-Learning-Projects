{
 "cells": [
  {
   "cell_type": "code",
   "execution_count": 1,
   "metadata": {},
   "outputs": [
    {
     "name": "stdout",
     "output_type": "stream",
     "text": [
      "Hello Welcome, to Ruhan Dave's NLP Tutorials. Please do watch the entire course! to become expert in NLP\n"
     ]
    }
   ],
   "source": [
    "corpus = \"Hello Welcome, to Ruhan Dave's NLP Tutorials. Please do watch the entire course! to become expert in NLP\"\n",
    "print(corpus)"
   ]
  },
  {
   "cell_type": "code",
   "execution_count": null,
   "metadata": {},
   "outputs": [],
   "source": [
    "# Tokenization\n",
    "# sentence to paragraphs\n",
    "from nltk.tokenize import sent_tokenize\n",
    "\n",
    "sent_tokenize(corpus, language = \"english\") #return tokens in the form of list of sentence. english language is default"
   ]
  },
  {
   "cell_type": "code",
   "execution_count": null,
   "metadata": {},
   "outputs": [],
   "source": [
    "# tokenization\n",
    "# paragrpah into words\n",
    "# sentence into words\n",
    "from nltk.tokenize import word_tokenize\n",
    "\n",
    "word_tokenize(corpus) #separate into list of words, treat fullstop/comma as separate\n",
    "#works the same with sentences"
   ]
  },
  {
   "cell_type": "code",
   "execution_count": null,
   "metadata": {},
   "outputs": [],
   "source": [
    "from nltk.tokenize import wordpunct_tokenize\n",
    "wordpunct_tokenize(corpus) #separates all the words and puncuations"
   ]
  },
  {
   "cell_type": "code",
   "execution_count": null,
   "metadata": {},
   "outputs": [],
   "source": [
    "from nltk.tokenize import TreebanWordTokenizer\n",
    "tokenizer = TreebankWordTokenizer()\n",
    "tokenizer.tokenize(corpus) #doesn't treat fullstop as separate word"
   ]
  }
 ],
 "metadata": {
  "kernelspec": {
   "display_name": "myenv",
   "language": "python",
   "name": "python3"
  },
  "language_info": {
   "codemirror_mode": {
    "name": "ipython",
    "version": 3
   },
   "file_extension": ".py",
   "mimetype": "text/x-python",
   "name": "python",
   "nbconvert_exporter": "python",
   "pygments_lexer": "ipython3",
   "version": "3.12.2"
  }
 },
 "nbformat": 4,
 "nbformat_minor": 2
}
